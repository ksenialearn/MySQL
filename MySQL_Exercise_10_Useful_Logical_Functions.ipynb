{
 "cells": [
  {
   "cell_type": "markdown",
   "metadata": {},
   "source": [
    "Copyright Jana Schaich Borg/Attribution-NonCommercial 4.0 International (CC BY-NC 4.0)"
   ]
  },
  {
   "cell_type": "markdown",
   "metadata": {},
   "source": [
    "# MySQL Exercise 10: Useful Logical Operators\n",
    "\n"
   ]
  },
  {
   "cell_type": "markdown",
   "metadata": {},
   "source": [
    "## 1. IF expressions\n",
    "\n",
    "IF expressions are used to return one of two results based on whether inputs to the expressions meet the conditions you specify.  ld then use a GROUP BY statement to count the number of unique early or late users:\n",
    "\n",
    "```sql \n",
    "SELECT IF(cleaned_users.first_account<'2014-06-01','early_user','late_user') AS user_type,\n",
    "       COUNT(cleaned_users.first_account)\n",
    "FROM (SELECT user_guid, MIN(created_at) AS first_account \n",
    "      FROM users\n",
    "      GROUP BY user_guid) AS cleaned_users\n",
    "GROUP BY user_type\n",
    "```\n",
    "\n",
    "**Try it yourself:**"
   ]
  },
  {
   "cell_type": "code",
   "execution_count": null,
   "metadata": {
    "collapsed": false,
    "scrolled": true
   },
   "outputs": [],
   "source": [
    "%%sql\n",
    "SELECT IF(cleaned_users.first_account<'2014-06-01','early_user','late_user') AS user_type,\n",
    "       COUNT(cleaned_users.first_account)\n",
    "FROM (SELECT user_guid, MIN(created_at) AS first_account \n",
    "      FROM users\n",
    "      GROUP BY user_guid) AS cleaned_users\n",
    "GROUP BY user_type"
   ]
  },
  {
   "cell_type": "markdown",
   "metadata": {},
   "source": [
    "**Question 1: Write a query that will output distinct user_guids and their associated country of residence from the users table, excluding any user_guids or countries that have NULL values.  You should get 16,261 rows in your result.**"
   ]
  },
  {
   "cell_type": "code",
   "execution_count": null,
   "metadata": {
    "collapsed": false,
    "scrolled": true
   },
   "outputs": [],
   "source": [
    "%%sql\n",
    "SELECT DISTINCT user_guid, country\n",
    "FROM users\n",
    "WHERE user_guid is not NULL and country is not NULL;"
   ]
  },
  {
   "cell_type": "markdown",
   "metadata": {},
   "source": [
    "**Question 2: Use an IF expression and the query you wrote in Question 1 as a subquery to determine the number of unique user_guids who reside in the United States (abbreviated \"US\") and outside of the US.**"
   ]
  },
  {
   "cell_type": "code",
   "execution_count": null,
   "metadata": {
    "collapsed": false,
    "scrolled": true
   },
   "outputs": [],
   "source": [
    "%%sql\n",
    "SELECT IF(user_country.country ='US', 'United States', 'Outside US') AS country_type, COUNT(user_country.user_guid)\n",
    "FROM (SELECT DISTINCT user_guid, country\n",
    "      FROM users\n",
    "      WHERE user_guid is not NULL and country is not NULL) AS user_country\n",
    "GROUP BY country_type;"
   ]
  },
  {
   "cell_type": "markdown",
   "metadata": {},
   "source": [
    "Single IF expressions can only result in one of two specified outputs, but multiple IF expressions can be nested to result in more than two possible outputs.  \n",
    "\n",
    "The full query to output the number of unique users in each of the three groups would be:\n",
    "\n",
    "```sql \n",
    "SELECT IF(cleaned_users.country='US','In US', \n",
    "          IF(cleaned_users.country='N/A','Not Applicable','Outside US')) AS US_user, \n",
    "      count(cleaned_users.user_guid)   \n",
    "FROM (SELECT DISTINCT user_guid, country \n",
    "      FROM users\n",
    "      WHERE country IS NOT NULL) AS cleaned_users\n",
    "GROUP BY US_user\n",
    "```\n",
    "\n",
    "**Try it yourself. You should get 5,642 unique user_guids in the \"Not Applicable\" category, and 1,263 users in the \"Outside US\" category.**"
   ]
  },
  {
   "cell_type": "code",
   "execution_count": null,
   "metadata": {
    "collapsed": false,
    "scrolled": true
   },
   "outputs": [],
   "source": [
    "%%sql\n",
    "SELECT IF(cleaned_users.country='US','In US', \n",
    "          IF(cleaned_users.country='N/A','Not Applicable','Outside US')) AS US_user, \n",
    "       count(cleaned_users.user_guid)   \n",
    "FROM (SELECT DISTINCT user_guid, country \n",
    "      FROM users\n",
    "      WHERE country IS NOT NULL) AS cleaned_users\n",
    "GROUP BY US_user;"
   ]
  },
  {
   "cell_type": "markdown",
   "metadata": {},
   "source": [
    " \n",
    "## 2. CASE expressions\n",
    "\n",
    "If you need to manipulate values in a current column of your data, you would use this syntax:\n",
    "\n",
    "<img src=\"https://duke.box.com/shared/static/bvyvscvvg9d1rjnov340gqyu85mhch9i.jpg\" width=600 alt=\"CASE_Expression\" />\n",
    "\n",
    "Using this syntax, our nested IF statement from above could be written as:\n",
    "\n",
    "```sql\n",
    "SELECT CASE WHEN cleaned_users.country=\"US\" THEN \"In US\"\n",
    "            WHEN cleaned_users.country=\"N/A\" THEN \"Not Applicable\"\n",
    "            ELSE \"Outside US\"\n",
    "            END AS US_user, \n",
    "      count(cleaned_users.user_guid)   \n",
    "FROM (SELECT DISTINCT user_guid, country \n",
    "      FROM users\n",
    "      WHERE country IS NOT NULL) AS cleaned_users\n",
    "GROUP BY US_user\n",
    "```\n",
    "\n",
    "**Go ahead and try it:**"
   ]
  },
  {
   "cell_type": "code",
   "execution_count": null,
   "metadata": {
    "collapsed": false,
    "scrolled": true
   },
   "outputs": [],
   "source": [
    "%%sql\n",
    "SELECT CASE WHEN cleaned_users.country=\"US\" THEN \"In US\"\n",
    "            WHEN cleaned_users.country=\"N/A\" THEN \"Not Applicable\"\n",
    "            ELSE \"Outside US\"\n",
    "            END AS US_user, \n",
    "        count(cleaned_users.user_guid)   \n",
    "FROM (SELECT DISTINCT user_guid, country \n",
    "      FROM users\n",
    "      WHERE country IS NOT NULL) AS cleaned_users\n",
    "GROUP BY US_user;\n"
   ]
  },
  {
   "cell_type": "markdown",
   "metadata": {},
   "source": [
    "Since our query does not require manipulation of any of the values in the country column, though, we could also take advantage of this syntax, which is slightly more compact:\n",
    "\n",
    "<img src=\"https://duke.box.com/shared/static/z9fezozm55wj5pz6slxscouxrcpq7bpz.jpg\" width=600 alt=\"CASE_Value\" />\n",
    "\n",
    "Our query written in this syntax would look like this:\n",
    "\n",
    "```sql\n",
    "SELECT CASE cleaned_users.country\n",
    "            WHEN \"US\" THEN \"In US\"\n",
    "            WHEN \"N/A\" THEN \"Not Applicable\"\n",
    "            ELSE \"Outside US\"\n",
    "            END AS US_user, \n",
    "      count(cleaned_users.user_guid)   \n",
    "FROM (SELECT DISTINCT user_guid, country \n",
    "      FROM users\n",
    "      WHERE country IS NOT NULL) AS cleaned_users\n",
    "GROUP BY US_user\n",
    "```\n",
    "\n",
    "**Try this query as well:**\n"
   ]
  },
  {
   "cell_type": "code",
   "execution_count": null,
   "metadata": {
    "collapsed": false,
    "scrolled": true
   },
   "outputs": [],
   "source": [
    "%%sql\n",
    "SELECT CASE cleaned_users.country\n",
    "            WHEN \"US\" THEN \"In US\"\n",
    "            WHEN \"N/A\" THEN \"Not Applicable\"\n",
    "            ELSE \"Outside US\"\n",
    "            END AS US_user, \n",
    "        count(cleaned_users.user_guid)   \n",
    "FROM (SELECT DISTINCT user_guid, country \n",
    "      FROM users\n",
    "      WHERE country IS NOT NULL) AS cleaned_users\n",
    "GROUP BY US_user;"
   ]
  },
  {
   "cell_type": "markdown",
   "metadata": {},
   "source": [
    "\n",
    "**Question 3: Write a query using a CASE statement that outputs 3 columns: dog_guid, dog_fixed, and a third column that reads \"neutered\" every time there is a 1 in the \"dog_fixed\" column of dogs, \"not neutered\" every time there is a value of 0 in the \"dog_fixed\" column of dogs, and \"NULL\" every time there is a value of anything else in the \"dog_fixed\" column.  Limit your results for troubleshooting purposes.**\n"
   ]
  },
  {
   "cell_type": "code",
   "execution_count": null,
   "metadata": {
    "collapsed": false,
    "scrolled": true
   },
   "outputs": [],
   "source": [
    "%%sql\n",
    "SELECT dog_guid, dog_fixed,\n",
    "        CASE dog_fixed\n",
    "        WHEN '1' THEN 'neutered'\n",
    "        WHEN '0' THEN 'not neutered'\n",
    "        ELSE 'NULL' \n",
    "        END AS fixed\n",
    "FROM dogs;"
   ]
  },
  {
   "cell_type": "markdown",
   "metadata": {},
   "source": [
    "You can also use CASE statements to standardize or combine several values into one.  \n",
    "\n",
    "**Question 4: We learned that NULL values should be treated the same as \"0\" values in the exclude columns of the dogs and users tables.  Write a query using a CASE statement that outputs 3 columns: dog_guid, exclude, and a third column that reads \"exclude\" every time there is a 1 in the \"exclude\" column of dogs and \"keep\" every time there is any other value in the exclude column. Limit your results for troubleshooting purposes.**\n",
    "\n"
   ]
  },
  {
   "cell_type": "code",
   "execution_count": null,
   "metadata": {
    "collapsed": false,
    "scrolled": true
   },
   "outputs": [],
   "source": [
    "%%sql\n",
    "SELECT dog_guid, exclude,\n",
    "    CASE exclude\n",
    "    WHEN '1' THEN 'exclude'\n",
    "    ELSE 'keep'\n",
    "    END AS 'Excluded?'\n",
    "FROM dogs;"
   ]
  },
  {
   "cell_type": "markdown",
   "metadata": {
    "collapsed": true
   },
   "source": [
    "**Question 5: Re-write your query from Question 4 using an IF statement instead of a CASE statement.**"
   ]
  },
  {
   "cell_type": "code",
   "execution_count": null,
   "metadata": {
    "collapsed": false,
    "scrolled": true
   },
   "outputs": [],
   "source": [
    "%%sql\n",
    "SELECT dog_guid, exclude, IF(exclude = '1', 'exclude', 'keep') AS 'Excluded?'\n",
    "FROM dogs;"
   ]
  },
  {
   "cell_type": "markdown",
   "metadata": {},
   "source": [
    "Case expressions are also useful for breaking values in a column up into multiple groups that meet specific criteria or that have specific ranges of values.\n",
    "\n",
    "**Question 6: Write a query that uses a CASE expression to output 3 columns: dog_guid, weight, and a third column that reads...     \n",
    "\"very small\" when a dog's weight is 1-10 pounds     \n",
    "\"small\" when a dog's weight is greater than 10 pounds to 30 pounds     \n",
    "\"medium\" when a dog's weight is greater than 30 pounds to 50 pounds     \n",
    "\"large\" when a dog's weight is greater than 50 pounds to 85 pounds     \n",
    "\"very large\" when a dog's weight is greater than 85 pounds      \n",
    "Limit your results for troubleshooting purposes.**\n",
    "\n",
    "**Remember that when you use AND to define values between two boundaries, you need to include the variable name in all clauses that define the conditions of the values you want to extract.  In other words, you could use this combined clause in your query: \n",
    "“WHEN weight>10 AND weight<=30 THEN \"small\"\n",
    "…but this combined clause would cause an error:\n",
    "“WHEN weight>10 AND <=30 THEN \"small\"**"
   ]
  },
  {
   "cell_type": "code",
   "execution_count": null,
   "metadata": {
    "collapsed": false,
    "scrolled": true
   },
   "outputs": [],
   "source": [
    "%%sql\n",
    "SELECT dog_guid, weight, \n",
    "    CASE \n",
    "    WHEN weight <= 10 THEN 'very small'\n",
    "    WHEN weight > 10 and weight <= 30 THEN 'small'\n",
    "    WHEN weight > 30 and weight <= 50 THEN 'medium'\n",
    "    WHEN weight > 50 and weight <= 85 THEN 'large'\n",
    "    WHEN weight > 85 THEN 'very large'\n",
    "    END AS size\n",
    "FROM dogs;"
   ]
  },
  {
   "cell_type": "markdown",
   "metadata": {},
   "source": [
    "## 3. Pay attention to the order of operations within logical expressions\n",
    "\n",
    "\n",
    "**Question 7: How many distinct dog_guids are found in group 1 using this query?**\n",
    "    \n",
    "```sql\n",
    "SELECT COUNT(DISTINCT dog_guid), \n",
    "CASE WHEN breed_group='Sporting' OR breed_group='Herding' AND exclude!='1' THEN \"group 1\"\n",
    "     ELSE \"everything else\"\n",
    "     END AS groups\n",
    "FROM dogs\n",
    "GROUP BY groups\n",
    "```"
   ]
  },
  {
   "cell_type": "code",
   "execution_count": null,
   "metadata": {
    "collapsed": false,
    "scrolled": true
   },
   "outputs": [],
   "source": [
    "%%sql\n",
    "SELECT COUNT(DISTINCT dog_guid), \n",
    "CASE WHEN breed_group='Sporting' OR breed_group='Herding' AND exclude!='1' THEN \"group 1\"\n",
    "     ELSE \"everything else\"\n",
    "     END AS groups\n",
    "FROM dogs\n",
    "GROUP BY groups;"
   ]
  },
  {
   "cell_type": "markdown",
   "metadata": {},
   "source": [
    "**Question 8: How many distinct dog_guids are found in group 1 using this query?**\n",
    "    \n",
    "```sql\n",
    "SELECT COUNT(DISTINCT dog_guid), \n",
    "CASE WHEN exclude!='1' AND breed_group='Sporting' OR breed_group='Herding' THEN \"group 1\"\n",
    "     ELSE \"everything else\"\n",
    "     END AS group_name\n",
    "FROM dogs\n",
    "GROUP BY group_name\n",
    "```\n"
   ]
  },
  {
   "cell_type": "code",
   "execution_count": null,
   "metadata": {
    "collapsed": false,
    "scrolled": true
   },
   "outputs": [],
   "source": [
    "%%sql\n",
    "SELECT COUNT(DISTINCT dog_guid), \n",
    "CASE WHEN exclude!='1' AND breed_group='Sporting' OR breed_group='Herding' THEN \"group 1\"\n",
    "     ELSE \"everything else\"\n",
    "     END AS group_name\n",
    "FROM dogs\n",
    "GROUP BY group_name;"
   ]
  },
  {
   "cell_type": "markdown",
   "metadata": {},
   "source": [
    "**Question 9: How many distinct dog_guids are found in group 1 using this query?**\n",
    "\n",
    "```sql\n",
    "SELECT COUNT(DISTINCT dog_guid), \n",
    "CASE WHEN exclude!='1' AND (breed_group='Sporting' OR breed_group='Herding') THEN \"group 1\"\n",
    "     ELSE \"everything else\"\n",
    "     END AS group_name\n",
    "FROM dogs\n",
    "GROUP BY group_name\n",
    "```"
   ]
  },
  {
   "cell_type": "code",
   "execution_count": null,
   "metadata": {
    "collapsed": false,
    "scrolled": true
   },
   "outputs": [],
   "source": [
    "%%sql\n",
    "SELECT COUNT(DISTINCT dog_guid), \n",
    "CASE WHEN exclude!='1' AND (breed_group='Sporting' OR breed_group='Herding') THEN \"group 1\"\n",
    "     ELSE \"everything else\"\n",
    "     END AS group_name\n",
    "FROM dogs\n",
    "GROUP BY group_name;"
   ]
  },
  {
   "cell_type": "markdown",
   "metadata": {},
   "source": [
    "\n",
    "**Question 10: For each dog_guid, output its dog_guid, breed_type, number of completed tests, and use an IF statement to include an extra column that reads \"Pure_Breed\" whenever breed_type equals 'Pure Breed\" and \"Not_Pure_Breed\" whenever breed_type equals anything else. LIMIT your output to 50 rows for troubleshooting.  HINT: you will need to use a join to complete this query.**"
   ]
  },
  {
   "cell_type": "code",
   "execution_count": null,
   "metadata": {
    "collapsed": false,
    "scrolled": true
   },
   "outputs": [],
   "source": [
    "%%sql\n",
    "SELECT DISTINCT d.dog_guid, d.breed_type, count(c.created_at) AS Tests_completed, \n",
    "    IF(breed_type = 'Pure Breed', 'Pure_Breed', 'Not_Pure_Breed') AS Pure_breed\n",
    "FROM dogs d, complete_tests c\n",
    "WHERE d.dog_guid = c.dog_guid    \n",
    "GROUP BY d.dog_guid\n",
    "LIMIT 50;"
   ]
  },
  {
   "cell_type": "markdown",
   "metadata": {},
   "source": [
    "**Question 11: Write a query that uses a CASE statement to report the number of unique user_guids associated with customers who live in the United States and who are in the following groups of states:**\n",
    "\n",
    "**Group 1: New York (abbreviated \"NY\") or New Jersey (abbreviated \"NJ\")    \n",
    "Group 2: North Carolina (abbreviated \"NC\") or South Carolina (abbreviated \"SC\")    \n",
    "Group 3: California (abbreviated \"CA\")    \n",
    "Group 4: All other states with non-null values**\n",
    "\n",
    "**You should find 898 unique user_guids in Group1.**\n",
    "\n"
   ]
  },
  {
   "cell_type": "code",
   "execution_count": null,
   "metadata": {
    "collapsed": false,
    "scrolled": true
   },
   "outputs": [],
   "source": [
    "%%sql\n",
    "SELECT  \n",
    "    CASE \n",
    "    WHEN (state='NY' OR state='NJ') THEN 'Group 1 - NY,NJ'\n",
    "    WHEN (state='NC' OR state='SC') THEN 'Group 2 - NC,SC'\n",
    "    WHEN state='CA' THEN 'Group 3 - CA'\n",
    "    ELSE 'Group 4 - All other' \n",
    "    END AS Location_group,\n",
    "    count(DISTINCT user_guid)\n",
    "FROM users\n",
    "WHERE state is not NULL AND country='US'\n",
    "GROUP BY Location_group;"
   ]
  },
  {
   "cell_type": "markdown",
   "metadata": {},
   "source": [
    "**Question 12: Write a query that allows you to determine how many unique dog_guids are associated with dogs who are DNA tested and have either stargazer or socialite personality dimensions.  Your answer should be 70.**"
   ]
  },
  {
   "cell_type": "code",
   "execution_count": null,
   "metadata": {
    "collapsed": false
   },
   "outputs": [],
   "source": [
    "%%sql\n",
    "SELECT count(DISTINCT dog_guid) AS DogID\n",
    "FROM dogs\n",
    "WHERE dna_tested = 1 AND (dimension = 'stargazer' OR dimension = 'socialite');"
   ]
  },
  {
   "cell_type": "markdown",
   "metadata": {},
   "source": [
    "**Feel free to practice any other queries you like here!**"
   ]
  },
  {
   "cell_type": "code",
   "execution_count": null,
   "metadata": {
    "collapsed": false
   },
   "outputs": [],
   "source": [
    "%%sql\n",
    "SELECT count(DISTINCT user_guid), rating,\n",
    "    CASE\n",
    "    WHEN rating<7 THEN 'Detractor'\n",
    "    WHEN (rating=7 OR rating=8) THEN 'Passive'\n",
    "    WHEN rating>8 THEN 'Promoter'\n",
    "    END AS nps\n",
    "FROM reviews\n",
    "WHERE rating is not NULL\n",
    "GROUP BY nps;\n",
    "\n"
   ]
  },
  {
   "cell_type": "code",
   "execution_count": null,
   "metadata": {
    "collapsed": true
   },
   "outputs": [],
   "source": []
  }
 ],
 "metadata": {
  "kernelspec": {
   "display_name": "Python 3",
   "language": "python",
   "name": "python3"
  },
  "language_info": {
   "codemirror_mode": {
    "name": "ipython",
    "version": 3
   },
   "file_extension": ".py",
   "mimetype": "text/x-python",
   "name": "python",
   "nbconvert_exporter": "python",
   "pygments_lexer": "ipython3",
   "version": "3.5.2"
  }
 },
 "nbformat": 4,
 "nbformat_minor": 0
}
