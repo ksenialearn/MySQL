{
 "cells": [
  {
   "cell_type": "code",
   "execution_count": 64,
   "metadata": {
    "collapsed": false
   },
   "outputs": [
    {
     "name": "stdout",
     "output_type": "stream",
     "text": [
      "['Lori Hoffmann', 'Jonathan Bonilla', 'Phyllis Battagliese', 'Jessica Olcott', 'Kathie Hoffman', 'Cesar Garcia', 'Dave Spaulding', 'Melanie Miller', 'Ralph Hoffman', 'Mariana Jimenez', 'Vincent incandela', 'Robert Castaldi', 'Mike Dudas', 'Dave McCarthy', 'Roberto Giuliano ', 'Alonzo Jenkins', 'Tarek Hendawy', 'Carmen Mendez', 'Allison Baio', 'Jesse Norton', 'Brian Maniora', 'Marty Raguso']\n",
      "\n",
      " Winner is Tarek Hendawy\n"
     ]
    }
   ],
   "source": [
    "import csv\n",
    "import random\n",
    "\n",
    "inputDate = '217' #Manually input the date of the drawing in the form 'mdd' for tracking\n",
    "\n",
    "filename = 'Responses' + inputDate + '.csv'\n",
    "winnerfilename = 'Winner' + inputDate + '.csv'\n",
    "\n",
    "participants = []\n",
    "\n",
    "with open(filename) as csvfile:\n",
    "    reader = csv.reader(csvfile, delimiter = ',')\n",
    "    next(reader)\n",
    "    \n",
    "    for row in reader: #remove test values\n",
    "        if 'test' in str(row):\n",
    "            continue\n",
    "            \n",
    "        elif row[1] not in participants: #ensure duplicate values not counted\n",
    "            participants.append(row[1])\n",
    "\n",
    "print(participants) #check the list looks right\n",
    "\n",
    "LotteryWinner = (random.choice(participants))\n",
    "\n",
    "print('\\n', 'Winner is', LotteryWinner)\n",
    "\n",
    "with open(winnerfilename, 'w') as winnerfile:\n",
    "    writer = csv.writer(winnerfile)\n",
    "    writer.writerow([LotteryWinner])"
   ]
  },
  {
   "cell_type": "code",
   "execution_count": null,
   "metadata": {
    "collapsed": true
   },
   "outputs": [],
   "source": []
  }
 ],
 "metadata": {
  "kernelspec": {
   "display_name": "Python 3",
   "language": "python",
   "name": "python3"
  },
  "language_info": {
   "codemirror_mode": {
    "name": "ipython",
    "version": 3
   },
   "file_extension": ".py",
   "mimetype": "text/x-python",
   "name": "python",
   "nbconvert_exporter": "python",
   "pygments_lexer": "ipython3",
   "version": "3.6.0"
  }
 },
 "nbformat": 4,
 "nbformat_minor": 2
}
