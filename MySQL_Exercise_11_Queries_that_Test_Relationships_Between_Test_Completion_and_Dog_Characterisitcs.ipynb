{
 "cells": [
  {
   "cell_type": "markdown",
   "metadata": {},
   "source": [
    "Copyright Jana Schaich Borg/Attribution-NonCommercial 4.0 International (CC BY-NC 4.0)"
   ]
  },
  {
   "cell_type": "markdown",
   "metadata": {
    "collapsed": true
   },
   "source": [
    "# MySQL Exercise 11: Queries that Test Relationships Between Test Completion and Dog Characteristics\n"
   ]
  },
  {
   "cell_type": "markdown",
   "metadata": {},
   "source": [
    "\n",
    "## 1. Assess whether Dognition personality dimensions are related to the number of tests completed \n",
    "\n",
    "\n",
    "**Question 1: To get a feeling for what kind of values exist in the Dognition personality dimension column, write a query that will output all of the distinct values in the dimension column.  Use your relational schema or the course materials to determine what table the dimension column is in. **\n"
   ]
  },
  {
   "cell_type": "code",
   "execution_count": null,
   "metadata": {
    "collapsed": false
   },
   "outputs": [],
   "source": [
    "%%sql\n",
    "SELECT DISTINCT(dimension)\n",
    "FROM dogs;"
   ]
  },
  {
   "cell_type": "markdown",
   "metadata": {},
   "source": [
    "\n",
    "**Question 2: Use the equijoin syntax (described in MySQL Exercise 8) to write a query that will output the Dognition personality dimension and total number of tests completed by each unique DogID.  This query will be used as an inner subquery in the next question.  LIMIT your output to 100 rows for troubleshooting purposes.**"
   ]
  },
  {
   "cell_type": "code",
   "execution_count": null,
   "metadata": {
    "collapsed": false
   },
   "outputs": [],
   "source": [
    "%%sql\n",
    "SELECT d.dog_guid AS DogID, d.dimension AS Dimension, COUNT(c.created_at) AS NumTests\n",
    "FROM dogs d, complete_tests c\n",
    "WHERE d.dog_guid=c.dog_guid\n",
    "GROUP BY DogID\n",
    "LIMIT 100;"
   ]
  },
  {
   "cell_type": "markdown",
   "metadata": {},
   "source": [
    "**Question 3: Re-write the query in Question 2 using traditional join syntax (described in MySQL Exercise 8).**"
   ]
  },
  {
   "cell_type": "code",
   "execution_count": null,
   "metadata": {
    "collapsed": false
   },
   "outputs": [],
   "source": [
    "%%sql\n",
    "SELECT d.dog_guid AS DogID, d.dimension AS Dimension, COUNT(c.created_at) AS NumTests\n",
    "FROM dogs d JOIN complete_tests c\n",
    "    ON d.dog_guid=c.dog_guid\n",
    "GROUP BY DogID\n",
    "LIMIT 100;"
   ]
  },
  {
   "cell_type": "markdown",
   "metadata": {},
   "source": [
    " \n",
    "**Question 4: To start, write a query that will output the average number of tests completed by unique dogs in each Dognition personality dimension.  Choose either the query in Question 2 or 3 to serve as an inner query in your main query. **\n"
   ]
  },
  {
   "cell_type": "code",
   "execution_count": null,
   "metadata": {
    "collapsed": false
   },
   "outputs": [],
   "source": [
    "%%sql\n",
    "SELECT dimension AS Dimension, AVG(DimensionData.NumTests) AS AvgTests\n",
    "FROM (SELECT d.dog_guid AS DogID, d.dimension AS Dimension, COUNT(c.created_at) AS NumTests\n",
    "        FROM dogs d, complete_tests c\n",
    "        WHERE d.dog_guid=c.dog_guid\n",
    "        GROUP BY DogID) AS DimensionData\n",
    "GROUP BY Dimension\n",
    "ORDER BY AvgTests DESC;"
   ]
  },
  {
   "cell_type": "markdown",
   "metadata": {},
   "source": [
    "\n",
    "**Question 5: How many unique DogIDs are summarized in the Dognition dimensions labeled \"None\" or \"\"? (You should retrieve values of 13,705 and 71)**"
   ]
  },
  {
   "cell_type": "code",
   "execution_count": null,
   "metadata": {
    "collapsed": false
   },
   "outputs": [],
   "source": [
    "%%sql\n",
    "SELECT Dimension, COUNT(DogID)\n",
    "FROM (SELECT d.dog_guid AS DogID, d.dimension AS Dimension, COUNT(c.created_at) AS NumTests\n",
    "        FROM dogs d, complete_tests c\n",
    "        WHERE d.dog_guid=c.dog_guid AND (dimension is NULL OR dimension = \"\")\n",
    "        GROUP BY DogID) AS DimensionData\n",
    "GROUP BY Dimension;"
   ]
  },
  {
   "cell_type": "markdown",
   "metadata": {},
   "source": [
    "\n",
    "**Question 6: To determine whether there are any features that are common to all dogs that have non-NULL empty strings in the dimension column, write a query that outputs the breed, weight, value in the \"exclude\" column, first or minimum time stamp in the complete_tests table, last or maximum time stamp in the complete_tests table, and total number of tests completed by each unique DogID that has a non-NULL empty string in the dimension column.**\n"
   ]
  },
  {
   "cell_type": "code",
   "execution_count": null,
   "metadata": {
    "collapsed": false
   },
   "outputs": [],
   "source": [
    "%%sql\n",
    "SELECT DISTINCT(d.dog_guid) AS DogID, d.breed, d.weight, d.exclude, \n",
    "    MIN(c.created_at) AS FirstTS, MAX(c.updated_at) AS LastTS, COUNT(c.created_at) AS NumTests, d.dimension\n",
    "FROM dogs d, complete_tests c\n",
    "WHERE d.dog_guid = c.dog_guid AND d.dimension = ''\n",
    "GROUP BY DogID;"
   ]
  },
  {
   "cell_type": "markdown",
   "metadata": {},
   "source": [
    "\n",
    "**Question 7: Rewrite the query in Question 4 to exclude DogIDs with (1) non-NULL empty strings in the dimension column, (2) NULL values in the dimension column, and (3) values of \"1\" in the exclude column.  **"
   ]
  },
  {
   "cell_type": "code",
   "execution_count": null,
   "metadata": {
    "collapsed": false
   },
   "outputs": [],
   "source": [
    "%%sql\n",
    "SELECT dimension AS Dimension, AVG(NumTests) AS NumTests, COUNT(DogID) AS NumDog\n",
    "FROM (SELECT d.dog_guid AS DogID, d.dimension AS Dimension, COUNT(c.created_at) AS NumTests\n",
    "        FROM dogs d, complete_tests c\n",
    "        WHERE d.dog_guid=c.dog_guid AND (d.dimension is not NULL AND d.dimension != '') \n",
    "          AND (d.exclude = 0 OR d.exclude is NULL)\n",
    "        GROUP BY DogID) AS DimensionData\n",
    "GROUP BY Dimension\n",
    "ORDER BY NumTests DESC;"
   ]
  },
  {
   "cell_type": "markdown",
   "metadata": {},
   "source": [
    "\n",
    "\n",
    "## 2. Assess whether dog breeds are related to the number of tests completed\n",
    "\n",
    "**Questions 8: Write a query that will output all of the distinct values in the breed_group field.**"
   ]
  },
  {
   "cell_type": "code",
   "execution_count": null,
   "metadata": {
    "collapsed": false
   },
   "outputs": [],
   "source": [
    "%%sql\n",
    "SELECT DISTINCT breed_group\n",
    "FROM dogs;"
   ]
  },
  {
   "cell_type": "markdown",
   "metadata": {},
   "source": [
    "\n",
    "**Question 9: Write a query that outputs the breed, weight, value in the \"exclude\" column, first or minimum time stamp in the complete_tests table, last or maximum time stamp in the complete_tests table, and total number of tests completed by each unique DogID that has a NULL value in the breed_group column.**"
   ]
  },
  {
   "cell_type": "code",
   "execution_count": null,
   "metadata": {
    "collapsed": false
   },
   "outputs": [],
   "source": [
    "%%sql\n",
    "SELECT d.breed, d.weight, d.exclude,\n",
    "    MIN(c.created_at), MAX(c.created_at), COUNT(c.created_at) AS NumTest\n",
    "FROM dogs d, complete_tests c\n",
    "WHERE d.dog_guid=c.dog_guid AND d.breed_group is NULL\n",
    "GROUP BY d.dog_guid;\n"
   ]
  },
  {
   "cell_type": "markdown",
   "metadata": {},
   "source": [
    "\n",
    "**Question 10: Adapt the query in Question 7 to examine the relationship between breed_group and number of tests completed.  Exclude DogIDs with values of \"1\" in the exclude column. Your results should return 1774 DogIDs in the Herding breed group.**\n"
   ]
  },
  {
   "cell_type": "code",
   "execution_count": null,
   "metadata": {
    "collapsed": false
   },
   "outputs": [],
   "source": [
    "%%sql\n",
    "SELECT BreedG, AVG(NumTests) AS NumTests, COUNT(DogID) AS NumDog\n",
    "FROM (SELECT d.dog_guid AS DogID, d.breed_group AS BreedG, COUNT(c.created_at) AS NumTests\n",
    "        FROM dogs d, complete_tests c\n",
    "        WHERE d.dog_guid=c.dog_guid AND\n",
    "          (d.exclude = 0 OR d.exclude is NULL)\n",
    "        GROUP BY DogID) AS DimensionData\n",
    "GROUP BY BreedG\n",
    "ORDER BY NumTests DESC;"
   ]
  },
  {
   "cell_type": "markdown",
   "metadata": {},
   "source": [
    "\n",
    "**Question 11: Adapt the query in Question 10 to only report results for Sporting, Hound, Herding, and Working breed_groups using an IN clause.**"
   ]
  },
  {
   "cell_type": "code",
   "execution_count": null,
   "metadata": {
    "collapsed": false
   },
   "outputs": [],
   "source": [
    "%%sql\n",
    "SELECT BreedG, AVG(NumTests) AS NumTests, COUNT(DogID) AS NumDog\n",
    "FROM (SELECT d.dog_guid AS DogID, d.breed_group AS BreedG, COUNT(c.created_at) AS NumTests\n",
    "        FROM dogs d, complete_tests c\n",
    "        WHERE d.dog_guid=c.dog_guid AND\n",
    "          (d.exclude = 0 OR d.exclude is NULL) AND\n",
    "          breed_group IN('Sporting', 'Hound', 'Herding', 'Working')\n",
    "        GROUP BY DogID) AS DimensionData\n",
    "GROUP BY BreedG\n",
    "ORDER BY NumTests DESC;"
   ]
  },
  {
   "cell_type": "markdown",
   "metadata": {},
   "source": [
    "\n",
    "**Questions 12: Begin by writing a query that will output all of the distinct values in the breed_type field.**"
   ]
  },
  {
   "cell_type": "code",
   "execution_count": null,
   "metadata": {
    "collapsed": false,
    "scrolled": false
   },
   "outputs": [],
   "source": [
    "%%sql\n",
    "SELECT DISTINCT(breed_type)\n",
    "FROM dogs;"
   ]
  },
  {
   "cell_type": "markdown",
   "metadata": {},
   "source": [
    "**Question 13: Adapt the query in Question 7 to examine the relationship between breed_type and number of tests completed. Exclude DogIDs with values of \"1\" in the exclude column. Your results should return 8865 DogIDs in the Pure Breed group.**"
   ]
  },
  {
   "cell_type": "code",
   "execution_count": null,
   "metadata": {
    "collapsed": false
   },
   "outputs": [],
   "source": [
    "%%sql\n",
    "SELECT BreedType, AVG(NumTests) AS NumTests, COUNT(DogID) AS NumDog\n",
    "FROM (SELECT d.dog_guid AS DogID, d.breed_type AS BreedType, COUNT(c.created_at) AS NumTests\n",
    "        FROM dogs d, complete_tests c\n",
    "        WHERE d.dog_guid=c.dog_guid AND\n",
    "          (d.exclude = 0 OR d.exclude is NULL)\n",
    "        GROUP BY DogID) AS DimensionData\n",
    "GROUP BY BreedType\n",
    "ORDER BY NumTests DESC;"
   ]
  },
  {
   "cell_type": "markdown",
   "metadata": {},
   "source": [
    "    \n",
    "  \n",
    "## 3. Assess whether dog breeds and neutering are related to the number of tests completed  \n",
    "\n",
    "**Question 14: For each unique DogID, output its dog_guid, breed_type, number of completed tests, and use a CASE statement to include an extra column with a string that reads \"Pure_Breed\" whenever breed_type equals 'Pure Breed\" and \"Not_Pure_Breed\" whenever breed_type equals anything else.  LIMIT your output to 50 rows for troubleshooting.**"
   ]
  },
  {
   "cell_type": "code",
   "execution_count": null,
   "metadata": {
    "collapsed": false,
    "scrolled": true
   },
   "outputs": [],
   "source": [
    "%%sql\n",
    "SELECT d.dog_guid, d.breed_type, \n",
    "    CASE \n",
    "    WHEN d.breed_type='Pure Breed' THEN 'Pure_Breed'\n",
    "    ELSE 'Not_Pure_Breed' \n",
    "    END AS 'Breed Type',\n",
    "    COUNT(c.created_at)\n",
    "FROM dogs d, complete_tests c\n",
    "WHERE d.dog_guid=c.dog_guid\n",
    "GROUP BY d.dog_guid\n",
    "LIMIT 50;"
   ]
  },
  {
   "cell_type": "markdown",
   "metadata": {},
   "source": [
    "**Question 15: Adapt your queries from Questions 7 and 14 to examine the relationship between breed_type and number of tests completed by Pure_Breed dogs and non_Pure_Breed dogs. **"
   ]
  },
  {
   "cell_type": "code",
   "execution_count": null,
   "metadata": {
    "collapsed": false
   },
   "outputs": [],
   "source": [
    "%%sql\n",
    "SELECT BreedType, AVG(NumTests) AS NumTests, COUNT(DogID) AS NumDog\n",
    "FROM (SELECT d.dog_guid AS DogID, d.breed_type, \n",
    "        CASE \n",
    "            WHEN d.breed_type='Pure Breed' THEN 'Pure_Breed'\n",
    "            ELSE 'Not_Pure_Breed' \n",
    "            END AS BreedType,\n",
    "      \n",
    "        COUNT(c.created_at) AS NumTests\n",
    "        FROM dogs d, complete_tests c\n",
    "        WHERE d.dog_guid=c.dog_guid AND (d.exclude = 0 OR d.exclude is NULL)\n",
    "        GROUP BY d.dog_guid) AS BreedData\n",
    "GROUP BY BreedType\n",
    "ORDER BY NumTests DESC;"
   ]
  },
  {
   "cell_type": "markdown",
   "metadata": {},
   "source": [
    "**Question 16: Adapt your query from Question 15 to examine the relationship between breed_type, whether or not a dog was neutered (indicated in the dog_fixed field), and number of tests completed by Pure_Breed dogs and non_Pure_Breed dogs. **"
   ]
  },
  {
   "cell_type": "code",
   "execution_count": null,
   "metadata": {
    "collapsed": false
   },
   "outputs": [],
   "source": [
    "%%sql\n",
    "SELECT BreedType, DogFix, AVG(NumTests) AS NumTests, COUNT(DogID) AS NumDog\n",
    "FROM (SELECT d.dog_guid AS DogID, d.breed_type, d.dog_fixed AS DogFix,\n",
    "        CASE \n",
    "            WHEN d.breed_type='Pure Breed' THEN 'Pure_Breed'\n",
    "            ELSE 'Not_Pure_Breed' \n",
    "            END AS BreedType,\n",
    "      \n",
    "        COUNT(c.created_at) AS NumTests\n",
    "        FROM dogs d, complete_tests c\n",
    "        WHERE d.dog_guid=c.dog_guid AND (d.exclude = 0 OR d.exclude is NULL)\n",
    "        GROUP BY d.dog_guid) AS BreedData\n",
    "GROUP BY BreedType, DogFix\n",
    "ORDER BY NumTests DESC;"
   ]
  },
  {
   "cell_type": "markdown",
   "metadata": {},
   "source": [
    "\n",
    "## 4. Other dog features that might be related to the number of tests completed, and a note about using averages as summary metrics\n",
    "\n",
    "**Question 17: Adapt your query from Question 7 to include a column with the standard deviation for the number of tests completed by each Dognition personality dimension.**\n"
   ]
  },
  {
   "cell_type": "code",
   "execution_count": null,
   "metadata": {
    "collapsed": false
   },
   "outputs": [],
   "source": [
    "%%sql\n",
    "SELECT dimension AS Dimension, AVG(NumTests) AS NumTests, STDDEV(NumTests) AS STDev_Tests, COUNT(DogID) AS NumDog\n",
    "FROM (SELECT d.dog_guid AS DogID, d.dimension AS Dimension, COUNT(c.created_at) AS NumTests\n",
    "        FROM dogs d, complete_tests c\n",
    "        WHERE d.dog_guid=c.dog_guid AND (d.dimension is not NULL AND d.dimension != '') \n",
    "          AND (d.exclude = 0 OR d.exclude is NULL)\n",
    "        GROUP BY DogID) AS DimensionData\n",
    "GROUP BY Dimension\n",
    "ORDER BY NumTests DESC;"
   ]
  },
  {
   "cell_type": "markdown",
   "metadata": {},
   "source": [
    "\n",
    "**Question 18: Write a query that calculates the average amount of time it took each dog breed_type to complete all of the tests in the exam_answers table. Exclude negative durations from the calculation, and include a column that calculates the standard deviation of durations for each breed_type group:**\n"
   ]
  },
  {
   "cell_type": "code",
   "execution_count": null,
   "metadata": {
    "collapsed": false
   },
   "outputs": [],
   "source": [
    "%%sql\n",
    "SELECT d.breed_type AS BreedType, AVG(TIMESTAMPDIFF(minute, e.start_time, e.end_time)) AS duration,\n",
    "    STDDEV(TIMESTAMPDIFF(minute, e.start_time, e.end_time)) AS deviation\n",
    "FROM dogs d, exam_answers e\n",
    "WHERE d.dog_guid=e.dog_guid AND TIMESTAMPDIFF(minute, e.start_time, e.end_time)>=0\n",
    "GROUP BY BreedType;"
   ]
  }
 ],
 "metadata": {
  "kernelspec": {
   "display_name": "Python 3",
   "language": "python",
   "name": "python3"
  },
  "language_info": {
   "codemirror_mode": {
    "name": "ipython",
    "version": 3
   },
   "file_extension": ".py",
   "mimetype": "text/x-python",
   "name": "python",
   "nbconvert_exporter": "python",
   "pygments_lexer": "ipython3",
   "version": "3.5.2"
  }
 },
 "nbformat": 4,
 "nbformat_minor": 0
}
